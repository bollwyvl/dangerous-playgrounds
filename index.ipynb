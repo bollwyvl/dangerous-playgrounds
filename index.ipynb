{
 "cells": [
  {
   "cell_type": "markdown",
   "metadata": {
    "nbpresent": {
     "id": "c94b6af8-e364-436a-9f77-4fb6e64c0768"
    }
   },
   "source": [
    "# Building Dangerous Live-Coding Playgrounds with Jupyter Widgets\n",
    "\n",
    "![http://i294.photobucket.com/albums/mm110/eaglewebtech/2014-03-24/dangerous-and-scary-playgrounds_0_zpsf7a875d6.jpg](http://i.imgur.com/aIAiWxQ.jpg)"
   ]
  },
  {
   "cell_type": "markdown",
   "metadata": {
    "collapsed": true,
    "nbpresent": {
     "id": "e683e57e-f571-4d91-99a5-5ac181776cd4"
    }
   },
   "source": [
    "I want to be able to build any kind of \"playground\" application, where each keystroke in any number of source documents updates an output document. Some examples:\n",
    "- [Online YAML Parser](http://yaml-online-parser.appspot.com/)\n",
    "- [JSON-LD Playground](http://json-ld.org/playground/)\n",
    "- [PEG Grammar](http://pegjs.org/online)\n",
    "- [js2coffee](http://js2.coffee/)\n",
    "- [babel REPL](https://babeljs.io/repl/)\n"
   ]
  },
  {
   "cell_type": "markdown",
   "metadata": {
    "nbpresent": {
     "id": "2a1748a8-7696-44a6-a38c-111d41f750a3"
    }
   },
   "source": [
    "## Widgets and traitlets\n",
    "[traitlets](https://github.com/ipython/traitlets)offer an [observable implementation](https://en.wikipedia.org/wiki/Observer_pattern) that makes the state of a single value observable, to which your code can react... in Python.\n",
    "\n",
    "[Widgets](https://github.com/ipython/ipywidgets), made up of traitlets, make the state of the data of a named collection of traitelts to be updated, and reacted to, simultaneously on the kernel (backend) and in the notebook (front-end). This lets us use both backend modules and front-end modules to achieve transformations."
   ]
  },
  {
   "cell_type": "markdown",
   "metadata": {
    "nbpresent": {
     "id": "5e6fc1ed-e659-46c6-a0eb-90e5e5b6b561"
    }
   },
   "source": [
    "## Ingredients\n",
    "- a live text source: [CodeMirror](https://codemirror.net/) is already available in the notebook, so let's widgetize that\n",
    "- a transformer: while traitlets has `link`, this doesn't let us supply arbitrary transformations\n",
    "\n",
    "Let's get going!"
   ]
  },
  {
   "cell_type": "code",
   "execution_count": 9,
   "metadata": {
    "collapsed": true
   },
   "outputs": [],
   "source": [
    "import traitlets\n",
    "import ipywidgets as widgets"
   ]
  },
  {
   "cell_type": "code",
   "execution_count": 10,
   "metadata": {
    "collapsed": true
   },
   "outputs": [],
   "source": [
    "# Convenience methods, as the traitlets API is a little verbose\n",
    "# for the widget base case.\n",
    "Unicode = lambda *x: traitlets.CUnicode(*x).tag(sync=True)\n",
    "Bool = lambda *x: traitlets.CBool(*x).tag(sync=True)\n",
    "Any = lambda *x: traitlets.Any(*x).tag(sync=True)"
   ]
  },
  {
   "cell_type": "markdown",
   "metadata": {
    "nbpresent": {
     "id": "d9e423e3-0112-4718-b703-f6bb7e5b631f"
    }
   },
   "source": [
    "## The CodeMirror Widget: Javascript\n",
    "Writing and distributing widgets is a bit of a pain right now: however, we can (ab)use the live Jupyter Notebook to just ram some named modules right into the runtime environment."
   ]
  },
  {
   "cell_type": "code",
   "execution_count": 11,
   "metadata": {
    "collapsed": false,
    "nbpresent": {
     "id": "5bb144a1-9215-4781-a1cb-22c548fe3fb3"
    }
   },
   "outputs": [
    {
     "data": {
      "application/javascript": [
       "requirejs.undef(\"widget_codemirror\");\n",
       "\n",
       "define(\"widget_codemirror\",\n",
       "[\n",
       "    \"underscore\",\n",
       "    \"jquery\",\n",
       "    \"components/codemirror/lib/codemirror\",\n",
       "    \"nbextensions/widgets/widgets/js/widget\",\n",
       "],\n",
       "function(_, $, CodeMirror, widget){\n",
       "    var CodeMirrorView = widget.DOMWidgetView.extend({\n",
       "        render: function(){\n",
       "            _.bindAll(this, \"_init\", \"_cm_changed\", \"_mode_loaded\");\n",
       "\n",
       "            this.displayed.then(this._init);\n",
       "            \n",
       "            // wire up magic functions\n",
       "            _.map(\n",
       "                [\"value\", \"theme\", \"mode\", \"description\"],\n",
       "                function(name){\n",
       "                    this.listenTo(\n",
       "                        this.model,\n",
       "                        \"change:\"+name,\n",
       "                        this[\"_\" + name + \"_changed\"]\n",
       "                    );\n",
       "                }, this);\n",
       "        },\n",
       "        _init: function(){\n",
       "            this.$description = $(\"<div/>\").appendTo(this.$el);\n",
       "            \n",
       "            this._cm = new CodeMirror($(\"<div/>\").appendTo(this.$el)[0], {\n",
       "                value: this.m(\"value\")\n",
       "            });\n",
       "            this._cm.on(\"change\", this._cm_changed);\n",
       "            this._theme_changed();\n",
       "            this._mode_changed();\n",
       "            this._description_changed();\n",
       "        },\n",
       "        _cm_changed: function(){\n",
       "            this.m(\"value\", this.cmv());\n",
       "            this.touch();\n",
       "        },\n",
       "                                       \n",
       "        // model listeners\n",
       "        _value_changed: function(){\n",
       "            var value = this.m(\"value\");\n",
       "            this._cm.hasFocus() || value === this.cmv() || this.cmv(value);\n",
       "        },\n",
       "        _theme_changed: function(){\n",
       "            var theme = this.m(\"theme\"),\n",
       "                href=\"/static/components/codemirror/theme/\" + theme + \".css\",\n",
       "                style = $('link[href$=\"' + theme +'\"]');\n",
       "            if(theme && !style.length){\n",
       "                $(\"<link/>\", {rel: \"stylesheet\", href: href})\n",
       "                    .appendTo($(\"head\"));\n",
       "            }\n",
       "            this._cm.setOption(\"theme\", theme);\n",
       "        },\n",
       "        \n",
       "        _description_changed: function(){\n",
       "            this.$description.text(this.m(\"description\"));\n",
       "        },\n",
       "        _mode_changed: function(){\n",
       "            var mode = this.m(\"mode\");\n",
       "            mode && require([\n",
       "                [\"components/codemirror/mode\",  mode, mode].join(\"/\")\n",
       "            ], this._mode_loaded)\n",
       "        },\n",
       "        \n",
       "        _mode_loaded: function(){\n",
       "            this._cm.setOption(\"mode\", this.m(\"mode\"));\n",
       "        },\n",
       "        \n",
       "        cmv: function(_new){\n",
       "            var old = this._cm.getValue();\n",
       "            if(arguments.length){\n",
       "                old === _new || this._cm.setValue(_new);\n",
       "                return this;\n",
       "            }\n",
       "            return old;\n",
       "        },\n",
       "        // d3-style (g|s)etter\n",
       "        m: function(name, val){\n",
       "            if(arguments.length == 2){\n",
       "                this.model.set(name, val);\n",
       "                return this;\n",
       "            }\n",
       "            return this.model.get(name);\n",
       "        }\n",
       "    });\n",
       "    \n",
       "    var CodeMirrorModel = widget.WidgetModel.extend({});\n",
       "    \n",
       "    return {\n",
       "        CodeMirrorView: CodeMirrorView,\n",
       "        CodeMirrorModel: CodeMirrorModel \n",
       "    };\n",
       "});"
      ],
      "text/plain": [
       "<IPython.core.display.Javascript object>"
      ]
     },
     "metadata": {},
     "output_type": "display_data"
    }
   ],
   "source": [
    "%%javascript\n",
    "requirejs.undef(\"widget_codemirror\");\n",
    "\n",
    "define(\"widget_codemirror\",\n",
    "[\n",
    "    \"underscore\",\n",
    "    \"jquery\",\n",
    "    \"components/codemirror/lib/codemirror\",\n",
    "    \"nbextensions/widgets/widgets/js/widget\",\n",
    "],\n",
    "function(_, $, CodeMirror, widget){\n",
    "    var CodeMirrorView = widget.DOMWidgetView.extend({\n",
    "        render: function(){\n",
    "            _.bindAll(this, \"_init\", \"_cm_changed\", \"_mode_loaded\");\n",
    "\n",
    "            this.displayed.then(this._init);\n",
    "            \n",
    "            // wire up magic functions\n",
    "            _.map(\n",
    "                [\"value\", \"theme\", \"mode\", \"description\"],\n",
    "                function(name){\n",
    "                    this.listenTo(\n",
    "                        this.model,\n",
    "                        \"change:\"+name,\n",
    "                        this[\"_\" + name + \"_changed\"]\n",
    "                    );\n",
    "                }, this);\n",
    "        },\n",
    "        _init: function(){\n",
    "            this.$description = $(\"<div/>\").appendTo(this.$el);\n",
    "            \n",
    "            this._cm = new CodeMirror($(\"<div/>\").appendTo(this.$el)[0], {\n",
    "                value: this.m(\"value\")\n",
    "            });\n",
    "            this._cm.on(\"change\", this._cm_changed);\n",
    "            this._theme_changed();\n",
    "            this._mode_changed();\n",
    "            this._description_changed();\n",
    "        },\n",
    "        _cm_changed: function(){\n",
    "            this.m(\"value\", this.cmv());\n",
    "            this.touch();\n",
    "        },\n",
    "                                       \n",
    "        // model listeners\n",
    "        _value_changed: function(){\n",
    "            var value = this.m(\"value\");\n",
    "            this._cm.hasFocus() || value === this.cmv() || this.cmv(value);\n",
    "        },\n",
    "        _theme_changed: function(){\n",
    "            var theme = this.m(\"theme\"),\n",
    "                href=\"/static/components/codemirror/theme/\" + theme + \".css\",\n",
    "                style = $('link[href$=\"' + theme +'\"]');\n",
    "            if(theme && !style.length){\n",
    "                $(\"<link/>\", {rel: \"stylesheet\", href: href})\n",
    "                    .appendTo($(\"head\"));\n",
    "            }\n",
    "            this._cm.setOption(\"theme\", theme);\n",
    "        },\n",
    "        \n",
    "        _description_changed: function(){\n",
    "            this.$description.text(this.m(\"description\"));\n",
    "        },\n",
    "        _mode_changed: function(){\n",
    "            var mode = this.m(\"mode\");\n",
    "            mode && require([\n",
    "                [\"components/codemirror/mode\",  mode, mode].join(\"/\")\n",
    "            ], this._mode_loaded)\n",
    "        },\n",
    "        \n",
    "        _mode_loaded: function(){\n",
    "            this._cm.setOption(\"mode\", this.m(\"mode\"));\n",
    "        },\n",
    "        \n",
    "        cmv: function(_new){\n",
    "            var old = this._cm.getValue();\n",
    "            if(arguments.length){\n",
    "                old === _new || this._cm.setValue(_new);\n",
    "                return this;\n",
    "            }\n",
    "            return old;\n",
    "        },\n",
    "        // d3-style (g|s)etter\n",
    "        m: function(name, val){\n",
    "            if(arguments.length == 2){\n",
    "                this.model.set(name, val);\n",
    "                return this;\n",
    "            }\n",
    "            return this.model.get(name);\n",
    "        }\n",
    "    });\n",
    "    \n",
    "    var CodeMirrorModel = widget.WidgetModel.extend({});\n",
    "    \n",
    "    return {\n",
    "        CodeMirrorView: CodeMirrorView,\n",
    "        CodeMirrorModel: CodeMirrorModel \n",
    "    };\n",
    "});"
   ]
  },
  {
   "cell_type": "markdown",
   "metadata": {
    "nbpresent": {
     "id": "48c2280a-de2d-47ec-9bc4-325b1c6b44a3"
    }
   },
   "source": [
    "## The CodeMirror Widget: Python\n",
    "With the JavaScript defined, we can start building stuff!"
   ]
  },
  {
   "cell_type": "code",
   "execution_count": 12,
   "metadata": {
    "collapsed": false,
    "nbpresent": {
     "id": "fc86e3f8-b0cb-494f-8d7c-3be7df1f9162"
    }
   },
   "outputs": [],
   "source": [
    "class CodeMirror(widgets.DOMWidget):\n",
    "    _view_module = Unicode(\"widget_codemirror\")\n",
    "    _view_name = Unicode(\"CodeMirrorView\")\n",
    "    _model_module = Unicode(\"widget_codemirror\")\n",
    "    _model_name = Unicode(\"CodeMirrorModel\")\n",
    "    \n",
    "    value = Unicode()\n",
    "    description = Unicode()\n",
    "    \n",
    "    mode = Unicode()\n",
    "    theme = Unicode(\"monokai\")\n",
    "    \n",
    "    def __init__(self, value=\"\", *args, **kwargs):\n",
    "        super(CodeMirror, self).__init__(value=value, *args, **kwargs)"
   ]
  },
  {
   "cell_type": "code",
   "execution_count": 13,
   "metadata": {
    "collapsed": false,
    "nbpresent": {
     "id": "6f825708-0a1d-4098-9ea9-750fa5e36fd1"
    }
   },
   "outputs": [],
   "source": [
    "cm = CodeMirror(\"print('hello world')\", description=\"Yay, code!\", mode=\"python\", theme=\"monokai\")\n",
    "cm"
   ]
  },
  {
   "cell_type": "markdown",
   "metadata": {
    "nbpresent": {
     "id": "c439083b-fb1f-4297-a282-50e349500143"
    }
   },
   "source": [
    "# The Pipe Widget\n",
    "The playground pattern is usually\n",
    "```\n",
    "(some stuff, some other stuff) → (yet more stuff)\n",
    "```\n",
    "Let's generalize this into a widget."
   ]
  },
  {
   "cell_type": "code",
   "execution_count": 14,
   "metadata": {
    "collapsed": false,
    "nbpresent": {
     "id": "eced9a96-4748-4fa4-a732-a4273fe5522f"
    }
   },
   "outputs": [],
   "source": [
    "class Pipe(widgets.Widget):\n",
    "    # a tuple of (widget, \"trait\")s... or, if setting \"value\", just (widget)\n",
    "    sources = traitlets.Tuple([])\n",
    "    # a single (widget, \"trait\")\n",
    "    dest = traitlets.Tuple()\n",
    "    # a place to put the last error\n",
    "    error = traitlets.Any()\n",
    "\n",
    "    def __init__(self, fn, *args, **kwargs):\n",
    "        super(Pipe, self).__init__(*args, **kwargs)\n",
    "        # this doesn't need to be a traitlet, probably\n",
    "        self.fn = fn\n",
    "    \n",
    "    def _update(self):\n",
    "        [src[0].observe(self._src_changed) for src in self.sources]\n",
    "\n",
    "    def _sources_changed(self, old, new):\n",
    "        self._update()\n",
    "\n",
    "    def _dest_changed(self, old, new):\n",
    "        self._update()\n",
    "    \n",
    "    def _src_changed(self, change):\n",
    "        args = [\n",
    "            getattr(src[0], src[1] if len(src) == 2 else \"value\")\n",
    "            for src in self.sources\n",
    "        ]\n",
    "        try:\n",
    "            setattr(self.dest[0],\n",
    "                    self.dest[1] if len(self.dest) == 2 else \"value\",\n",
    "                    self.fn(*args))\n",
    "        except Exception as err:\n",
    "            self.error = err"
   ]
  },
  {
   "cell_type": "markdown",
   "metadata": {
    "nbpresent": {
     "id": "4a85ded1-12fb-4a98-9d6a-9628ae1255b2"
    }
   },
   "source": [
    "## First, some sliders\n",
    "No widget demo would be complete without some sliders. Here is a very simple example of adding two numbers to update a third."
   ]
  },
  {
   "cell_type": "code",
   "execution_count": 15,
   "metadata": {
    "collapsed": false,
    "nbpresent": {
     "id": "4b31a14d-3d13-4e03-a207-5208b14bce1d"
    }
   },
   "outputs": [],
   "source": [
    "import operator\n",
    "\n",
    "x, y, z = [widgets.FloatSlider(value=1, description=it) for it in \"xyz\"]\n",
    "p = Pipe(operator.mul, sources=[[x], [y]], dest=[z])\n",
    "widgets.VBox(children=[x,y,z])"
   ]
  },
  {
   "cell_type": "markdown",
   "metadata": {
    "nbpresent": {
     "id": "8a5a5752-3ae7-4d49-8726-7ce61da9fbde"
    }
   },
   "source": [
    "# A YAML Playground\n",
    "YAML is a great language for writing data quickly."
   ]
  },
  {
   "cell_type": "code",
   "execution_count": 16,
   "metadata": {
    "collapsed": false,
    "nbpresent": {
     "id": "8d40fd4f-9ac6-4b4c-b442-4a5bac2a823b"
    }
   },
   "outputs": [],
   "source": [
    "import yaml\n",
    "import json\n",
    "\n",
    "class YamlPlayground(widgets.FlexBox):\n",
    "    json = traitlets.Any({})\n",
    "\n",
    "    def __init__(self, *args, **kwargs):\n",
    "        self._yaml = CodeMirror(\"x: 1\", description=\"YAML\",  mode=\"yaml\", width=\"50%\")\n",
    "        self._json = CodeMirror(description=\"JSON\", mode=\"javascript\", width=\"50%\")\n",
    "        \n",
    "        # transform to YAML\n",
    "        Pipe(lambda x: json.dumps(yaml.safe_load(x), indent=2),\n",
    "             sources=[[self._yaml]], dest=[self._json])\n",
    "        \n",
    "        kwargs.update(\n",
    "            children=[self._yaml, self._json],\n",
    "            orientation=\"horizontal\"\n",
    "        )\n",
    "\n",
    "        super(YamlPlayground, self).__init__(*args, **kwargs)\n",
    "YamlPlayground()"
   ]
  },
  {
   "cell_type": "markdown",
   "metadata": {
    "collapsed": false
   },
   "source": [
    "# [wip] JSON-LD Playground\n",
    "We use the new text editor, the pipe and the standard layout widgets to make a re-creation of the JSON-LD Playground. First, we'll need some documents to start with."
   ]
  },
  {
   "cell_type": "code",
   "execution_count": 27,
   "metadata": {
    "collapsed": true
   },
   "outputs": [],
   "source": [
    "doc = \"\"\"{\n",
    "  \"@context\": {\n",
    "    \"rdfs\": \"http://www.w3.org/2000/01/rdf-schema#\",\n",
    "    \"name\" : \"rdfs:label\"\n",
    "  },\n",
    "  \"name\": \"Jane Doe\"\n",
    "}\"\"\"\n",
    "\n",
    "context = \"\"\"{\n",
    "  \"@context\": {\n",
    "    \"rdfs\": \"http://www.w3.org/2000/01/rdf-schema#\",\n",
    "    \"name\" : \"rdfs:label\"\n",
    "  }\n",
    "}\"\"\""
   ]
  },
  {
   "cell_type": "code",
   "execution_count": 28,
   "metadata": {
    "collapsed": false
   },
   "outputs": [],
   "source": [
    "from pyld import jsonld\n",
    "\n",
    "class JSONLDPlayground(widgets.FlexBox):\n",
    "    doc = traitlets.Any({})\n",
    "    context = traitlets.Any({})\n",
    "    compacted = traitlets.Any({})\n",
    "\n",
    "    def __init__(self, *args, **kwargs):\n",
    "        self._doc = CodeMirror(doc, description=\"Document\", width=\"33%\")\n",
    "        self._context = CodeMirror(value=context, description=\"Context\", width=\"33%\")\n",
    "        self._compacted = CodeMirror(value=\"{}\", description=\"Compacted\", width=\"33%\")\n",
    "        \n",
    "        # transform to JSON\n",
    "        Pipe(json.loads, sources=[[self._doc]], dest=[self, \"doc\"])\n",
    "        Pipe(json.loads, sources=[[self._context]], dest=[self, \"context\"])\n",
    "        Pipe(lambda x: json.dumps(x, indent=2), sources=[[self, \"compacted\"]], dest=[self._compacted])\n",
    "        \n",
    "        # finally, we can compact the JSON-LD\n",
    "        Pipe(jsonld.compact,\n",
    "             sources=[[self, \"doc\"], [self, \"context\"]],\n",
    "             dest=[self, \"compacted\"])\n",
    "\n",
    "        kwargs.update(children=[self._doc, self._context, self._compacted],\n",
    "                      orientation=\"horizontal\")\n",
    "\n",
    "        super(JSONLDPlayground, self).__init__(*args, **kwargs)\n",
    "pg = JSONLDPlayground()\n",
    "pg"
   ]
  },
  {
   "cell_type": "markdown",
   "metadata": {
    "collapsed": true
   },
   "source": [
    "## To be continued..."
   ]
  }
 ],
 "metadata": {
  "kernelspec": {
   "display_name": "Python 3",
   "language": "python",
   "name": "python3"
  },
  "language_info": {
   "codemirror_mode": {
    "name": "ipython",
    "version": 3
   },
   "file_extension": ".py",
   "mimetype": "text/x-python",
   "name": "python",
   "nbconvert_exporter": "python",
   "pygments_lexer": "ipython3",
   "version": "3.5.1"
  },
  "nbpresent": {
   "slides": {
    "37e9213d-dca8-4954-9475-9e65c89e8ebb": {
     "id": "37e9213d-dca8-4954-9475-9e65c89e8ebb",
     "prev": "5df68682-d79e-4dd9-8910-5afd20ed4041",
     "regions": {
      "5d98c70b-6e60-4542-94ef-581f9fb6c492": {
       "attrs": {
        "height": 0.8,
        "width": 0.2,
        "x": 0.4,
        "y": 0.1
       },
       "content": {
        "cell": "2a1748a8-7696-44a6-a38c-111d41f750a3",
        "part": "source"
       },
       "id": "5d98c70b-6e60-4542-94ef-581f9fb6c492"
      },
      "e8c44cec-ad3b-4eb5-b7ef-67d9a6883e44": {
       "attrs": {
        "height": 0.8,
        "width": 0.2,
        "x": 0.7,
        "y": 0.1
       },
       "content": {
        "cell": "5e6fc1ed-e659-46c6-a0eb-90e5e5b6b561",
        "part": "source"
       },
       "id": "e8c44cec-ad3b-4eb5-b7ef-67d9a6883e44"
      },
      "fc7f43ea-8ca3-456a-b789-fce138ac0e1c": {
       "attrs": {
        "height": 0.8,
        "width": 0.2,
        "x": 0.1,
        "y": 0.1
       },
       "content": {
        "cell": "e683e57e-f571-4d91-99a5-5ac181776cd4",
        "part": "source"
       },
       "id": "fc7f43ea-8ca3-456a-b789-fce138ac0e1c"
      }
     }
    },
    "3c32f6bb-1d56-4214-a1fc-a0c401ce8aeb": {
     "id": "3c32f6bb-1d56-4214-a1fc-a0c401ce8aeb",
     "prev": "80b98cfd-7ca4-4969-b311-757ddc40da3b",
     "regions": {
      "2ea05cb7-ee3a-40d3-afb2-fe2e0c134ed9": {
       "attrs": {
        "height": 0.8,
        "width": 0.21818181818181817,
        "x": 0.023636363636363636,
        "y": 0.06767676767676768
       },
       "content": {
        "cell": "4a85ded1-12fb-4a98-9d6a-9628ae1255b2",
        "part": "source"
       },
       "id": "2ea05cb7-ee3a-40d3-afb2-fe2e0c134ed9"
      },
      "5d60bea3-5314-434e-9596-63ca7567326b": {
       "attrs": {
        "height": 0.30545454545454553,
        "width": 0.6909090909090909,
        "x": 0.2681818181818182,
        "y": 0.5606060606060606
       },
       "content": {
        "cell": "4b31a14d-3d13-4e03-a207-5208b14bce1d",
        "part": "widgets"
       },
       "id": "5d60bea3-5314-434e-9596-63ca7567326b"
      },
      "f45ed2c8-f802-4917-9fd9-7fdb045c22f8": {
       "attrs": {
        "height": 0.4573737373737374,
        "width": 0.6990909090909091,
        "x": 0.2636363636363636,
        "y": 0.07252525252525252
       },
       "content": {
        "cell": "4b31a14d-3d13-4e03-a207-5208b14bce1d",
        "part": "source"
       },
       "id": "f45ed2c8-f802-4917-9fd9-7fdb045c22f8"
      }
     }
    },
    "5df68682-d79e-4dd9-8910-5afd20ed4041": {
     "id": "5df68682-d79e-4dd9-8910-5afd20ed4041",
     "prev": null,
     "regions": {
      "5fc18726-bf8b-4a40-ae6e-13fd8a8e4c11": {
       "attrs": {
        "height": 0.8,
        "width": 0.8,
        "x": 0.1,
        "y": 0.1
       },
       "content": {
        "cell": "c94b6af8-e364-436a-9f77-4fb6e64c0768",
        "part": "source"
       },
       "id": "5fc18726-bf8b-4a40-ae6e-13fd8a8e4c11"
      }
     }
    },
    "80b98cfd-7ca4-4969-b311-757ddc40da3b": {
     "id": "80b98cfd-7ca4-4969-b311-757ddc40da3b",
     "prev": "dbb4c346-fed7-419a-aed2-03e92da405b9",
     "regions": {
      "27363ccf-d85e-4f9e-8e62-5c7f63e0d8fe": {
       "attrs": {
        "height": 0.8,
        "width": 0.21818181818181817,
        "x": 0.023636363636363636,
        "y": 0.06767676767676768
       },
       "content": {
        "cell": "c439083b-fb1f-4297-a282-50e349500143",
        "part": "source"
       },
       "id": "27363ccf-d85e-4f9e-8e62-5c7f63e0d8fe"
      },
      "f5bd9e85-64ab-4c2d-8d25-22f8256f6ef9": {
       "attrs": {
        "height": 0.8,
        "width": 0.6990909090909091,
        "x": 0.2636363636363636,
        "y": 0.07252525252525252
       },
       "content": {
        "cell": "eced9a96-4748-4fa4-a732-a4273fe5522f",
        "part": "source"
       },
       "id": "f5bd9e85-64ab-4c2d-8d25-22f8256f6ef9"
      }
     }
    },
    "a0fbe841-f113-4675-9b84-3045350ab784": {
     "id": "a0fbe841-f113-4675-9b84-3045350ab784",
     "prev": "37e9213d-dca8-4954-9475-9e65c89e8ebb",
     "regions": {
      "32c4d711-7a71-4340-a35e-93b4fc63bc27": {
       "attrs": {
        "height": 0.8,
        "width": 0.6990909090909091,
        "x": 0.2636363636363636,
        "y": 0.07252525252525252
       },
       "content": {
        "cell": "5bb144a1-9215-4781-a1cb-22c548fe3fb3",
        "part": "source"
       },
       "id": "32c4d711-7a71-4340-a35e-93b4fc63bc27"
      },
      "bb8efbde-60fd-4494-a76e-d7904d420195": {
       "attrs": {
        "height": 0.8,
        "width": 0.21818181818181817,
        "x": 0.023636363636363636,
        "y": 0.06767676767676768
       },
       "content": {
        "cell": "d9e423e3-0112-4718-b703-f6bb7e5b631f",
        "part": "source"
       },
       "id": "bb8efbde-60fd-4494-a76e-d7904d420195"
      }
     }
    },
    "b00e63d7-32af-4ff5-ba4e-298a920a5845": {
     "id": "b00e63d7-32af-4ff5-ba4e-298a920a5845",
     "prev": "a0fbe841-f113-4675-9b84-3045350ab784",
     "regions": {
      "47521d8a-c29c-41d0-86e7-0dd427db392d": {
       "attrs": {
        "height": 0.30545454545454553,
        "width": 0.6909090909090909,
        "x": 0.2681818181818182,
        "y": 0.5606060606060606
       },
       "content": {
        "cell": "6f825708-0a1d-4098-9ea9-750fa5e36fd1",
        "part": "widgets"
       },
       "id": "47521d8a-c29c-41d0-86e7-0dd427db392d"
      },
      "7c221561-9bc8-4022-ba8e-b20e38fdb80e": {
       "attrs": {
        "height": 0.4573737373737374,
        "width": 0.6990909090909091,
        "x": 0.2636363636363636,
        "y": 0.07252525252525252
       },
       "content": {
        "cell": "fc86e3f8-b0cb-494f-8d7c-3be7df1f9162",
        "part": "source"
       },
       "id": "7c221561-9bc8-4022-ba8e-b20e38fdb80e"
      },
      "e4bd3a49-4aec-4aba-9422-3442dd7c3011": {
       "attrs": {
        "height": 0.8,
        "width": 0.21818181818181817,
        "x": 0.023636363636363636,
        "y": 0.06767676767676768
       },
       "content": {
        "cell": "48c2280a-de2d-47ec-9bc4-325b1c6b44a3",
        "part": "source"
       },
       "id": "e4bd3a49-4aec-4aba-9422-3442dd7c3011"
      }
     }
    },
    "dbb4c346-fed7-419a-aed2-03e92da405b9": {
     "id": "dbb4c346-fed7-419a-aed2-03e92da405b9",
     "prev": "b00e63d7-32af-4ff5-ba4e-298a920a5845",
     "regions": {
      "0256dd96-73b6-45c3-a036-338d528d63aa": {
       "attrs": {
        "height": 0.8,
        "width": 0.21818181818181817,
        "x": 0.023636363636363636,
        "y": 0.06767676767676768
       },
       "content": {
        "cell": "8a5a5752-3ae7-4d49-8726-7ce61da9fbde",
        "part": "source"
       },
       "id": "0256dd96-73b6-45c3-a036-338d528d63aa"
      },
      "b382742b-66fb-44f7-b53f-11a0e6fc3587": {
       "attrs": {
        "height": 0.4573737373737374,
        "width": 0.6990909090909091,
        "x": 0.2636363636363636,
        "y": 0.07252525252525252
       },
       "content": {
        "cell": "8d40fd4f-9ac6-4b4c-b442-4a5bac2a823b",
        "part": "source"
       },
       "id": "b382742b-66fb-44f7-b53f-11a0e6fc3587"
      },
      "f8b9732a-8a8d-4c7f-a983-1828a7f7ade5": {
       "attrs": {
        "height": 0.30545454545454553,
        "width": 0.6909090909090909,
        "x": 0.2681818181818182,
        "y": 0.5606060606060606
       },
       "content": {
        "cell": "8d40fd4f-9ac6-4b4c-b442-4a5bac2a823b",
        "part": "widgets"
       },
       "id": "f8b9732a-8a8d-4c7f-a983-1828a7f7ade5"
      }
     }
    }
   }
  }
 },
 "nbformat": 4,
 "nbformat_minor": 0
}
