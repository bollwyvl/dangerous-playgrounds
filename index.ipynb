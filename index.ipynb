{
 "cells": [
  {
   "cell_type": "markdown",
   "metadata": {
    "nbpresent": {
     "id": "c94b6af8-e364-436a-9f77-4fb6e64c0768"
    }
   },
   "source": [
    "# Building Dangerous Live-Coding Playgrounds with Jupyter Widgets\n",
    "\n",
    "![http://i294.photobucket.com/albums/mm110/eaglewebtech/2014-03-24/dangerous-and-scary-playgrounds_0_zpsf7a875d6.jpg](http://i.imgur.com/aIAiWxQ.jpg)"
   ]
  },
  {
   "cell_type": "markdown",
   "metadata": {
    "nbpresent": {
     "id": "da61a554-9664-4d3d-bc84-e0a8dd3eb994"
    }
   },
   "source": [
    "## Motivation\n",
    "Playground applications, where each user keystroke in any number of source documents updates an output document, allow you to _fail fast_, and are a great way to learn new APIs.\n",
    "\n",
    "Some examples:\n",
    "- [Online YAML Parser](http://yaml-online-parser.appspot.com/)\n",
    "- [JSON-LD Playground](http://json-ld.org/playground/)\n",
    "- [PEG Grammar](http://pegjs.org/online)\n",
    "- [js2coffee](http://js2.coffee/)\n",
    "- [babel REPL](https://babeljs.io/repl/)\n",
    "\n",
    "\n",
    "Let's build some tools so we can build any kind of \"playground\" application. "
   ]
  },
  {
   "cell_type": "markdown",
   "metadata": {
    "nbpresent": {
     "id": "2a1748a8-7696-44a6-a38c-111d41f750a3"
    }
   },
   "source": [
    "## Approach: Widgets and traitlets\n",
    "[traitlets](https://github.com/ipython/traitlets) offer an [observable](https://en.wikipedia.org/wiki/Observer_pattern) implementation that makes the state of a single value observable, to which your code can react... in Python.\n",
    "\n",
    "[Widgets](https://github.com/ipython/ipywidgets), or bundles of traitlets, make the state of the those traitlets to be updated, and reacted to, simultaneously on the kernel (backend) and in the notebook (front-end) over a high-performance WebSocket connection. \n",
    "\n",
    "Building our playgrounds out of widgets lets us use both backend modules and front-end modules to achieve transformations, without writing _too_ much code per playground, and very possibly only Python!"
   ]
  },
  {
   "cell_type": "markdown",
   "metadata": {
    "nbpresent": {
     "id": "5e6fc1ed-e659-46c6-a0eb-90e5e5b6b561"
    }
   },
   "source": [
    "## What is Needed?\n",
    "- a live text source: [CodeMirror](https://codemirror.net/) is already available in the notebook, so let's widgetize that\n",
    "- a transformer: while traitlets has `link`, this doesn't let us supply arbitrary transformations\n",
    "\n",
    "We'll implement both of these as widgets... and then the playgrounds themselves. Let's get going!"
   ]
  },
  {
   "cell_type": "code",
   "execution_count": null,
   "metadata": {
    "collapsed": true
   },
   "outputs": [],
   "source": [
    "import traitlets\n",
    "import ipywidgets as widgets\n",
    "import types"
   ]
  },
  {
   "cell_type": "markdown",
   "metadata": {
    "nbpresent": {
     "id": "d9e423e3-0112-4718-b703-f6bb7e5b631f"
    }
   },
   "source": [
    "## The CodeMirror Widget: Javascript\n",
    "Writing and distributing widget frontend code is a bit of a pain right now: however, we can (ab)use the live Jupyter Notebook to just ram some named modules right into the runtime environment. If these ever become a real library, they'll move to a `static` folder, and be installed with something like `jupyter nbextension install`."
   ]
  },
  {
   "cell_type": "code",
   "execution_count": null,
   "metadata": {
    "collapsed": false,
    "nbpresent": {
     "id": "5bb144a1-9215-4781-a1cb-22c548fe3fb3"
    }
   },
   "outputs": [],
   "source": [
    "%%javascript\n",
    "requirejs.undef(\"widget_codemirror\");\n",
    "\n",
    "define(\"widget_codemirror\",\n",
    "[\n",
    "    \"underscore\",\n",
    "    \"jquery\",\n",
    "    \"components/codemirror/lib/codemirror\",\n",
    "    \"nbextensions/widgets/widgets/js/widget\",\n",
    "    \"base/js/namespace\",\n",
    "    // silent upgrade\n",
    "    \"components/codemirror/mode/meta\"\n",
    "],\n",
    "function(_, $, CodeMirror, widget, Jupyter){\n",
    "    var CodeMirrorView = widget.DOMWidgetView.extend({\n",
    "        render: function(){\n",
    "            _.bindAll(this, \"_init\", \"_cm_changed\", \"_mode_loaded\");\n",
    "\n",
    "            this.displayed.then(this._init);\n",
    "        },\n",
    "        _init: function(){\n",
    "            this.$description = $(\"<div/>\").appendTo(this.$el);\n",
    "            \n",
    "            this._cm = new CodeMirror($(\"<div/>\").appendTo(this.$el)[0], {\n",
    "                value: this.m(\"value\")\n",
    "            });\n",
    "            this._cm.on(\"change\", this._cm_changed);\n",
    "            this._theme_changed();\n",
    "            this._mode_changed();\n",
    "            this._description_changed();\n",
    "            \n",
    "            \n",
    "            // wire up magic functions\n",
    "            _.map(\n",
    "                [\"value\", \"theme\", \"mode\", \"description\"],\n",
    "                function(name){\n",
    "                    this.listenTo(\n",
    "                        this.model,\n",
    "                        \"change:\"+name,\n",
    "                        this[\"_\" + name + \"_changed\"]\n",
    "                    );\n",
    "                }, this);\n",
    "        },\n",
    "        _cm_changed: function(){\n",
    "            this.m(\"value\", this.cmv());\n",
    "            this.touch();\n",
    "        },\n",
    "                                       \n",
    "        // model listeners\n",
    "        _value_changed: function(){\n",
    "            var value = this.m(\"value\");\n",
    "            this._cm.hasFocus() || value === this.cmv() || this.cmv(value);\n",
    "        },\n",
    "        _theme_changed: function(){\n",
    "            var theme = this.m(\"theme\"),\n",
    "                href = Jupyter.notebook.base_url + \"static/components/codemirror/theme/\" + theme + \".css\",\n",
    "                style = $('link[href$=\"' + theme +'\"]');\n",
    "            if(theme && !style.length){\n",
    "                $(\"<link/>\", {rel: \"stylesheet\", href: href})\n",
    "                    .appendTo($(\"head\"));\n",
    "            }\n",
    "            this._cm.setOption(\"theme\", theme);\n",
    "        },\n",
    "        \n",
    "        _description_changed: function(){\n",
    "            this.$description.text(this.m(\"description\"));\n",
    "        },\n",
    "        _mode_changed: function(){\n",
    "            var that = this,\n",
    "                mode = this.m(\"mode\"),\n",
    "                spec = _.reduce([\"Name\", \"MIME\", \"FileName\"],\n",
    "                    function(spec, approach){\n",
    "                        return spec || CodeMirror[\"findModeBy\" + approach](mode); \n",
    "                    }, null);\n",
    "            if(!spec){ return; }\n",
    "            require([\"components/codemirror/mode/\" + spec.mode + \"/\" + spec.mode], function(){\n",
    "                that._cm.setOption(\"mode\", spec.mime);\n",
    "            })\n",
    "        },\n",
    "        \n",
    "        _mode_loaded: function(){\n",
    "            this._cm.setOption(\"mode\", this.m(\"mode\"));\n",
    "        },\n",
    "        \n",
    "        cmv: function(_new){\n",
    "            var old = this._cm.getValue();\n",
    "            if(arguments.length){\n",
    "                old === _new || this._cm.setValue(_new);\n",
    "                return this;\n",
    "            }\n",
    "            return old;\n",
    "        },\n",
    "        // d3-style (g|s)etter\n",
    "        m: function(name, val){\n",
    "            if(arguments.length == 2){\n",
    "                this.model.set(name, val);\n",
    "                return this;\n",
    "            }\n",
    "            return this.model.get(name);\n",
    "        }\n",
    "    });\n",
    "    \n",
    "    var CodeMirrorModel = widget.WidgetModel.extend({});\n",
    "    \n",
    "    return {\n",
    "        CodeMirrorView: CodeMirrorView,\n",
    "        CodeMirrorModel: CodeMirrorModel \n",
    "    };\n",
    "});"
   ]
  },
  {
   "cell_type": "markdown",
   "metadata": {
    "nbpresent": {
     "id": "48c2280a-de2d-47ec-9bc4-325b1c6b44a3"
    }
   },
   "source": [
    "## The CodeMirror Widget: Python\n",
    "With the JavaScript defined, we can start building stuff! The `_view_*` traitlets let us point to custom frontend code for the actual DOM elements and JavaScript we'll need."
   ]
  },
  {
   "cell_type": "code",
   "execution_count": null,
   "metadata": {
    "collapsed": false,
    "nbpresent": {
     "id": "fc86e3f8-b0cb-494f-8d7c-3be7df1f9162"
    }
   },
   "outputs": [],
   "source": [
    "class CodeMirror(widgets.DOMWidget):\n",
    "    _view_module = traitlets.Unicode(\"widget_codemirror\").tag(sync=True)\n",
    "    _view_name = traitlets.Unicode(\"CodeMirrorView\").tag(sync=True)\n",
    "    \n",
    "    value = traitlets.Unicode().tag(sync=True)\n",
    "    description = traitlets.Unicode().tag(sync=True)\n",
    "    \n",
    "    mode = traitlets.Unicode().tag(sync=True)\n",
    "    theme = traitlets.Unicode(\"monokai\").tag(sync=True)"
   ]
  },
  {
   "cell_type": "code",
   "execution_count": null,
   "metadata": {
    "collapsed": false,
    "nbpresent": {
     "id": "6f825708-0a1d-4098-9ea9-750fa5e36fd1"
    }
   },
   "outputs": [],
   "source": [
    "cm = CodeMirror(value=\"print('hello world')\",\n",
    "           description=\"Yay, code!\",\n",
    "           mode=\"python\",\n",
    "           theme=\"material\")\n",
    "cm"
   ]
  },
  {
   "cell_type": "markdown",
   "metadata": {
    "nbpresent": {
     "id": "c439083b-fb1f-4297-a282-50e349500143"
    }
   },
   "source": [
    "# The Pipe Widgets\n",
    "The playground pattern is usually\n",
    "```\n",
    "(some stuff, some other stuff) → (yet more stuff)\n",
    "```\n",
    "These transformations could occur on the front- or backend, so let's make a base class to inherit from for the two variants."
   ]
  },
  {
   "cell_type": "code",
   "execution_count": null,
   "metadata": {
    "collapsed": true,
    "nbpresent": {
     "id": "d59bc3a8-35f0-4be6-97a4-c330941d142b"
    }
   },
   "outputs": [],
   "source": [
    "class PipeBase(widgets.Widget):\n",
    "    # a tuple of (widget, \"trait\")s... or, if setting \"value\", just (widget)\n",
    "    sources = traitlets.Tuple([]).tag(sync=True, **widgets.widget_serialization)\n",
    "    # a single (widget, \"trait\")\n",
    "    dest = traitlets.Tuple().tag(sync=True, **widgets.widget_serialization)\n",
    "    # a place to put the last error\n",
    "    error = traitlets.CUnicode().tag(sync=True)"
   ]
  },
  {
   "cell_type": "markdown",
   "metadata": {
    "nbpresent": {
     "id": "1e11da5c-638e-4c21-8e0e-6b863e36822e"
    }
   },
   "source": [
    "# The Backend Pipe Widget: Python\n",
    "If the transformation you want is in Python, you can just use the imported function directly, or make a `lambda`."
   ]
  },
  {
   "cell_type": "code",
   "execution_count": null,
   "metadata": {
    "collapsed": false,
    "nbpresent": {
     "id": "eced9a96-4748-4fa4-a732-a4273fe5522f"
    }
   },
   "outputs": [],
   "source": [
    "class Pipe(PipeBase):\n",
    "    fn = traitlets.Union([\n",
    "            traitlets.Instance(klass=_type)\n",
    "            for _type in [types.FunctionType, types.BuiltinFunctionType]\n",
    "        ])\n",
    "\n",
    "    def _update(self):\n",
    "        [src[0].observe(self._src_changed) for src in self.sources]\n",
    "\n",
    "    def _sources_changed(self, old, new):\n",
    "        self._update()\n",
    "\n",
    "    def _dest_changed(self, old, new):\n",
    "        self._update()\n",
    "    \n",
    "    def _src_changed(self, change):\n",
    "        args = [\n",
    "            getattr(src[0], src[1] if len(src) == 2 else \"value\")\n",
    "            for src in self.sources\n",
    "        ]\n",
    "        try:\n",
    "            setattr(self.dest[0],\n",
    "                    self.dest[1] if len(self.dest) == 2 else \"value\",\n",
    "                    self.fn(*args))\n",
    "        except Exception as err:\n",
    "            self.error = err"
   ]
  },
  {
   "cell_type": "markdown",
   "metadata": {
    "nbpresent": {
     "id": "4a85ded1-12fb-4a98-9d6a-9628ae1255b2"
    }
   },
   "source": [
    "## Some sliders\n",
    "No widget demo would be complete without some sliders. Here is a very simple example of adding two numbers to update a third."
   ]
  },
  {
   "cell_type": "code",
   "execution_count": null,
   "metadata": {
    "collapsed": false,
    "nbpresent": {
     "id": "4b31a14d-3d13-4e03-a207-5208b14bce1d"
    }
   },
   "outputs": [],
   "source": [
    "import operator\n",
    "\n",
    "x, y, z = [widgets.FloatSlider(value=1, description=it)\n",
    "           for it in \"xyz\"]\n",
    "p = Pipe(fn=operator.mul,\n",
    "         sources=[[x], [y]],\n",
    "         dest=[z])\n",
    "widgets.VBox(children=[x,y,z])"
   ]
  },
  {
   "cell_type": "markdown",
   "metadata": {
    "nbpresent": {
     "id": "29a6e1d0-57d0-4175-be36-e43e807e8f55"
    }
   },
   "source": [
    "## The Frontend Pipe Widget: JavaScript\n",
    "Sometimes the transformation you want is available only from a JavaScript module. We'll need a different approach to providing that capability. As with the CodeMirror widget, we'll write the JavaScript first. Note that since the user in the browser doesn't interact with the widget, instead of a `WidgetView`, we're overloading the `WidgetModel`."
   ]
  },
  {
   "cell_type": "code",
   "execution_count": null,
   "metadata": {
    "collapsed": false,
    "nbpresent": {
     "id": "5ce0ab43-914a-469c-8b9a-d77e452cfa1f"
    }
   },
   "outputs": [],
   "source": [
    "%%javascript\n",
    "requirejs.undef(\"widget_pipe\");\n",
    "\n",
    "define(\"widget_pipe\",\n",
    "[\n",
    "    \"underscore\",\n",
    "    \"jquery\",\n",
    "    \"nbextensions/widgets/widgets/js/widget\",\n",
    "    'base/js/namespace',\n",
    "],\n",
    "function(_, $, widget, Jupyter){\n",
    "    var JSPipeModel = widget.WidgetModel.extend({\n",
    "        initialize: function(){\n",
    "            this.on(\"change:sources\", this._update);\n",
    "            this.on(\"change:dest\", this._update);\n",
    "            this.on(\"change:fn_module\", this._module_changed);\n",
    "        },\n",
    "        \n",
    "        _update: function(){\n",
    "            _.map(this.m(\"sources\"), function(src){\n",
    "              this.listenTo(src[0], \"change\", this._evaluate)\n",
    "            }, this);\n",
    "        },\n",
    "        \n",
    "        _module_changed: function(){\n",
    "            var that = this;\n",
    "            require([this.m(\"fn_module\")], function(_module){\n",
    "                that._module = _module;\n",
    "                that._evaluate();\n",
    "            }, function(error){\n",
    "                console.error(error);\n",
    "                that.m(\"error\", error);\n",
    "            })\n",
    "        },\n",
    "                  \n",
    "        _evaluate: function(){\n",
    "            var args = _.map(this.m(\"sources\"), function(src){\n",
    "                    return src[0].get(src.length === 1 ? \"value\": src[1])\n",
    "                }),\n",
    "                dest = this.m(\"dest\"),\n",
    "                dest_attr = dest.length === 1 ? \"value\" : dest[1];\n",
    "            \n",
    "            console.log()\n",
    "            try{\n",
    "                dest[0].set(\n",
    "                    dest_attr,\n",
    "                    this._module[this.m(\"fn\")].apply(null, args)\n",
    "                );\n",
    "            }catch(error){\n",
    "                console.error(error)\n",
    "                this.m(\"error\", error);\n",
    "            }\n",
    "        },\n",
    "        \n",
    "        // d3-style (g|s)etter\n",
    "        m: function(name, val){\n",
    "            if(arguments.length == 2){\n",
    "                this.set(name, val);\n",
    "                return this;\n",
    "            }\n",
    "            return this.get(name);\n",
    "        }\n",
    "    }, {\n",
    "        serializers: _.extend({\n",
    "            sources:  {deserialize: widget.unpack_models},\n",
    "            dest:  {deserialize: widget.unpack_models},\n",
    "        }, widget.WidgetModel.prototype.serializers)\n",
    "    });\n",
    "    \n",
    "    return {\n",
    "        JSPipeModel: JSPipeModel \n",
    "    };\n",
    "});"
   ]
  },
  {
   "cell_type": "markdown",
   "metadata": {
    "nbpresent": {
     "id": "61fd2d6d-86fb-4031-9435-c7968054e788"
    }
   },
   "source": [
    "## The Frontend Pipe Widget: Python\n",
    "Unsurprisingly, there is very little here. For convenience, some common CDN prefixes are provided."
   ]
  },
  {
   "cell_type": "code",
   "execution_count": null,
   "metadata": {
    "collapsed": true,
    "nbpresent": {
     "id": "0f53c74a-a642-47c6-b9a3-1294adade0b0"
    }
   },
   "outputs": [],
   "source": [
    "class JSPipe(PipeBase):\n",
    "    _model_module = traitlets.Unicode(\"widget_pipe\").tag(sync=True)\n",
    "    _model_name = traitlets.Unicode(\"JSPipeModel\").tag(sync=True)\n",
    "    \n",
    "    fn = traitlets.Unicode().tag(sync=True)\n",
    "    fn_module = traitlets.Unicode().tag(sync=True)\n",
    "    \n",
    "    CDNJS = \"https://cdnjs.cloudflare.com/ajax/libs/\"\n",
    "    JSDELIVR = \"https://cdn.jsdelivr.net/g/\""
   ]
  },
  {
   "cell_type": "markdown",
   "metadata": {
    "nbpresent": {
     "id": "153f698a-d187-4edc-b00f-554b3fb126c1"
    }
   },
   "source": [
    "## Return of Sliders\n",
    "This is the same thing as above, but handled by the frontend. We'll use [math.js](http://mathjs.org/) to get a nice, callable `multiply` function, but you can use any AMD-compatible module. If you need complex behavior, you'll have to make your own module!"
   ]
  },
  {
   "cell_type": "code",
   "execution_count": null,
   "metadata": {
    "collapsed": false,
    "nbpresent": {
     "id": "c1c4426c-1d02-489d-be65-4634b979f63e"
    }
   },
   "outputs": [],
   "source": [
    "mathjs = JSPipe.CDNJS + \"mathjs/2.6.0/math.js\"\n",
    "\n",
    "jx, jy, jz = [widgets.FloatSlider(value=1, description=it) for it in \"xyz\"]\n",
    "p = JSPipe(fn=\"multiply\", fn_module=mathjs, sources=[[jx], [jy]], dest=[jz])\n",
    "widgets.VBox(children=[jx, jy, jz])"
   ]
  },
  {
   "cell_type": "markdown",
   "metadata": {
    "nbpresent": {
     "id": "8a5a5752-3ae7-4d49-8726-7ce61da9fbde"
    }
   },
   "source": [
    "# A YAML Playground\n",
    "YAML is a great language for writing data quickly."
   ]
  },
  {
   "cell_type": "code",
   "execution_count": 88,
   "metadata": {
    "collapsed": false,
    "nbpresent": {
     "id": "8d40fd4f-9ac6-4b4c-b442-4a5bac2a823b"
    }
   },
   "outputs": [],
   "source": [
    "import yaml\n",
    "import json\n",
    "\n",
    "class YamlPlayground(widgets.FlexBox):\n",
    "    json = traitlets.Any({})\n",
    "\n",
    "    def __init__(self, *args, **kwargs):\n",
    "        self._yaml = CodeMirror(\n",
    "            value=\"x: 1\",\n",
    "            description=\"YAML\",\n",
    "            mode=\"yaml\",\n",
    "            width=\"50%\")\n",
    "        self._json = CodeMirror(\n",
    "            description=\"JSON\",\n",
    "            mode=\"javascript\",\n",
    "            width=\"50%\")\n",
    "\n",
    "        # transform to YAML\n",
    "        Pipe(fn=lambda x: json.dumps(\n",
    "                yaml.safe_load(x),\n",
    "                indent=2),\n",
    "             sources=[[self._yaml]],\n",
    "             dest=[self._json])\n",
    "        \n",
    "        kwargs.update(\n",
    "            children=[self._yaml, self._json],\n",
    "            orientation=\"horizontal\"\n",
    "        )\n",
    "\n",
    "        super(YamlPlayground, self).__init__(\n",
    "            *args, **kwargs)\n",
    "YamlPlayground()"
   ]
  },
  {
   "cell_type": "markdown",
   "metadata": {
    "collapsed": false
   },
   "source": [
    "# [wip] JSON-LD Playground\n",
    "We use the new text editor, the pipe and the standard layout widgets to make a re-creation of the JSON-LD Playground. First, we'll need some documents to start with."
   ]
  },
  {
   "cell_type": "code",
   "execution_count": null,
   "metadata": {
    "collapsed": true
   },
   "outputs": [],
   "source": [
    "doc = \"\"\"{\n",
    "  \"@context\": {\n",
    "    \"rdfs\": \"http://www.w3.org/2000/01/rdf-schema#\",\n",
    "    \"name\" : \"rdfs:label\"\n",
    "  },\n",
    "  \"name\": \"Jane Doe\"\n",
    "}\"\"\"\n",
    "\n",
    "context = \"\"\"{\n",
    "  \"@context\": {\n",
    "    \"rdfs\": \"http://www.w3.org/2000/01/rdf-schema#\",\n",
    "    \"name\" : \"rdfs:label\"\n",
    "  }\n",
    "}\"\"\""
   ]
  },
  {
   "cell_type": "code",
   "execution_count": null,
   "metadata": {
    "collapsed": false
   },
   "outputs": [],
   "source": [
    "from pyld import jsonld\n",
    "\n",
    "class JSONLDPlayground(widgets.FlexBox):\n",
    "    doc = traitlets.Any({})\n",
    "    context = traitlets.Any({})\n",
    "    compacted = traitlets.Any({})\n",
    "\n",
    "    def __init__(self, *args, **kwargs):\n",
    "        self._doc = CodeMirror(\n",
    "            value=doc,\n",
    "            description=\"Document\",\n",
    "            mode=\"jsonld\",\n",
    "            width=\"33%\")\n",
    "        self._context = CodeMirror(\n",
    "            value=context,\n",
    "            description=\"Context\",\n",
    "            mode=\"json\",\n",
    "            width=\"33%\")\n",
    "        self._compacted = CodeMirror(\n",
    "            value=\"{}\",\n",
    "            description=\"Compacted\",\n",
    "            mode=\"json\",\n",
    "            width=\"33%\")\n",
    "\n",
    "        kwargs.update(\n",
    "            children=[self._doc, self._context, self._compacted],\n",
    "            orientation=\"horizontal\")\n",
    "        super(JSONLDPlayground, self).__init__(*args, **kwargs)\n",
    "        \n",
    "        # transform to JSON\n",
    "        Pipe(fn=json.loads,\n",
    "             sources=[[self._doc]], dest=[self, \"doc\"])\n",
    "        Pipe(fn=json.loads,\n",
    "             sources=[[self._context]], dest=[self, \"context\"])\n",
    "        Pipe(fn=lambda x: json.dumps(x, indent=2),\n",
    "             sources=[[self, \"compacted\"]], dest=[self._compacted])\n",
    "        \n",
    "        # finally, we can compact the JSON-LD\n",
    "        Pipe(fn=jsonld.compact,\n",
    "             sources=[[self, \"doc\"], [self, \"context\"]],\n",
    "             dest=[self, \"compacted\"])\n",
    "\n",
    "pg = JSONLDPlayground()\n",
    "pg"
   ]
  },
  {
   "cell_type": "markdown",
   "metadata": {
    "nbpresent": {
     "id": "689fac28-fdf4-47ee-be02-430ebd7361cf"
    }
   },
   "source": [
    "# Babel Playground\n",
    "ES2015 is great! But you need to transpile it. Before setting up a build chain, a playground can help you feel out the API.\n",
    "\n",
    "Babel browser-based compilation support has been discontinue"
   ]
  },
  {
   "cell_type": "code",
   "execution_count": null,
   "metadata": {
    "collapsed": false,
    "nbpresent": {
     "id": "f071b747-d68a-4978-b7bb-c60f32e176a3"
    }
   },
   "outputs": [],
   "source": [
    "%%javascript\n",
    "requirejs.undef(\"simple_babel\");\n",
    "\n",
    "define(\"simple_babel\", [\n",
    "    \"https://cdnjs.cloudflare.com/ajax/libs/babel-standalone/6.4.4/babel.min.js\"\n",
    "], function(Babel){\n",
    "    return {\n",
    "        transform: function(input){\n",
    "            return Babel.transform(\n",
    "                input, {\n",
    "                    presets: ['es2015']\n",
    "                }).code;\n",
    "        }\n",
    "    }\n",
    "})"
   ]
  },
  {
   "cell_type": "code",
   "execution_count": null,
   "metadata": {
    "collapsed": false,
    "nbpresent": {
     "id": "ed47ce5c-29d2-4b4f-bd9c-51e612bc707a"
    }
   },
   "outputs": [],
   "source": [
    "class BabelPlayground(widgets.FlexBox):\n",
    "    def __init__(self, *args, **kwargs):\n",
    "        self._es6 = CodeMirror(\n",
    "            value=\"()=> console.log('hello world')\",\n",
    "            description=\"ES2015\",\n",
    "            mode=\"javascript\",\n",
    "            width=\"50%\")\n",
    "        self._es5 = CodeMirror(\n",
    "            description=\"ES5\",\n",
    "            mode=\"javascript\",\n",
    "            width=\"50%\")\n",
    "        \n",
    "        kwargs.update(\n",
    "            children=[self._es6, self._es5],\n",
    "            orientation=\"horizontal\"\n",
    "        )\n",
    "\n",
    "        super(BabelPlayground, self).__init__(*args, **kwargs)\n",
    "        \n",
    "        # transform to YAML\n",
    "        JSPipe(\n",
    "            fn=\"transform\",\n",
    "            fn_module=\"simple_babel\",\n",
    "            sources=[[self._es6]],\n",
    "            dest=[self._es5])\n",
    "BabelPlayground()"
   ]
  },
  {
   "cell_type": "markdown",
   "metadata": {
    "collapsed": true
   },
   "source": [
    "## To be continued..."
   ]
  }
 ],
 "metadata": {
  "kernelspec": {
   "display_name": "Python 3",
   "language": "python",
   "name": "python3"
  },
  "language_info": {
   "codemirror_mode": {
    "name": "ipython",
    "version": 3
   },
   "file_extension": ".py",
   "mimetype": "text/x-python",
   "name": "python",
   "nbconvert_exporter": "python",
   "pygments_lexer": "ipython3",
   "version": "3.5.1"
  },
  "nbpresent": {
   "slides": {
    "37e9213d-dca8-4954-9475-9e65c89e8ebb": {
     "id": "37e9213d-dca8-4954-9475-9e65c89e8ebb",
     "prev": "5df68682-d79e-4dd9-8910-5afd20ed4041",
     "regions": {
      "5d98c70b-6e60-4542-94ef-581f9fb6c492": {
       "attrs": {
        "height": 0.8,
        "width": 0.2,
        "x": 0.4,
        "y": 0.1
       },
       "content": {
        "cell": "2a1748a8-7696-44a6-a38c-111d41f750a3",
        "part": "source"
       },
       "id": "5d98c70b-6e60-4542-94ef-581f9fb6c492"
      },
      "e8c44cec-ad3b-4eb5-b7ef-67d9a6883e44": {
       "attrs": {
        "height": 0.8,
        "width": 0.2,
        "x": 0.7,
        "y": 0.1
       },
       "content": {
        "cell": "5e6fc1ed-e659-46c6-a0eb-90e5e5b6b561",
        "part": "source"
       },
       "id": "e8c44cec-ad3b-4eb5-b7ef-67d9a6883e44"
      },
      "fc7f43ea-8ca3-456a-b789-fce138ac0e1c": {
       "attrs": {
        "height": 0.8,
        "width": 0.2,
        "x": 0.1,
        "y": 0.1
       },
       "content": {
        "cell": "da61a554-9664-4d3d-bc84-e0a8dd3eb994",
        "part": "source"
       },
       "id": "fc7f43ea-8ca3-456a-b789-fce138ac0e1c"
      }
     }
    },
    "4b24fed8-5664-4d98-9713-1eabfd9fd3b7": {
     "id": "4b24fed8-5664-4d98-9713-1eabfd9fd3b7",
     "prev": "b00e63d7-32af-4ff5-ba4e-298a920a5845",
     "regions": {
      "2663e4e8-0848-40ee-a60b-ac723fed5d12": {
       "attrs": {
        "height": 0.2585858585858586,
        "width": 0.27636363636363637,
        "x": 0.023636363636363636,
        "y": 0.06767676767676768
       },
       "content": {
        "cell": "c439083b-fb1f-4297-a282-50e349500143",
        "part": "source"
       },
       "id": "2663e4e8-0848-40ee-a60b-ac723fed5d12"
      },
      "4a43c1ab-d934-4b9e-9f98-af0af26fcba8": {
       "attrs": {
        "height": 0.2505050505050505,
        "width": 0.6427272727272727,
        "x": 0.3245454545454545,
        "y": 0.06282828282828283
       },
       "content": {
        "cell": "d59bc3a8-35f0-4be6-97a4-c330941d142b",
        "part": "source"
       },
       "id": "4a43c1ab-d934-4b9e-9f98-af0af26fcba8"
      },
      "b8533b80-94a6-40f2-9868-9f54d3dbdedb": {
       "attrs": {
        "height": 0.5252525252525253,
        "width": 0.6290909090909091,
        "x": 0.3309090909090908,
        "y": 0.3747474747474748
       },
       "content": {
        "cell": "eced9a96-4748-4fa4-a732-a4273fe5522f",
        "part": "source"
       },
       "id": "b8533b80-94a6-40f2-9868-9f54d3dbdedb"
      },
      "f36aa6a9-a025-4f94-b6ef-434f082b3f41": {
       "attrs": {
        "height": 0.5381818181818182,
        "width": 0.2690909090909091,
        "x": 0.028181818181818183,
        "y": 0.3618181818181818
       },
       "content": {
        "cell": "1e11da5c-638e-4c21-8e0e-6b863e36822e",
        "part": "source"
       },
       "id": "f36aa6a9-a025-4f94-b6ef-434f082b3f41"
      }
     }
    },
    "5a7abd40-c337-4c1c-ae01-297256db3d2f": {
     "id": "5a7abd40-c337-4c1c-ae01-297256db3d2f",
     "prev": "de21becd-24fb-4511-9e1c-b29cebf8eea8",
     "regions": {
      "06b37b9a-91b5-4d46-920a-04754c4b4536": {
       "attrs": {
        "height": 0.8,
        "width": 0.21818181818181817,
        "x": 0.023636363636363636,
        "y": 0.06767676767676768
       },
       "content": {
        "cell": "4a85ded1-12fb-4a98-9d6a-9628ae1255b2",
        "part": "source"
       },
       "id": "06b37b9a-91b5-4d46-920a-04754c4b4536"
      },
      "8b259e5b-f063-4794-b761-dd1af222bf55": {
       "attrs": {
        "height": 0.4573737373737374,
        "width": 0.6990909090909091,
        "x": 0.2636363636363636,
        "y": 0.07252525252525252
       },
       "content": {
        "cell": "4b31a14d-3d13-4e03-a207-5208b14bce1d",
        "part": "source"
       },
       "id": "8b259e5b-f063-4794-b761-dd1af222bf55"
      },
      "e019b83e-3183-4c79-a7a2-609bf18b5c2b": {
       "attrs": {
        "height": 0.30545454545454553,
        "width": 0.6909090909090909,
        "x": 0.2681818181818182,
        "y": 0.5606060606060606
       },
       "content": {
        "cell": "4b31a14d-3d13-4e03-a207-5208b14bce1d",
        "part": "widgets"
       },
       "id": "e019b83e-3183-4c79-a7a2-609bf18b5c2b"
      }
     }
    },
    "5df68682-d79e-4dd9-8910-5afd20ed4041": {
     "id": "5df68682-d79e-4dd9-8910-5afd20ed4041",
     "prev": null,
     "regions": {
      "5fc18726-bf8b-4a40-ae6e-13fd8a8e4c11": {
       "attrs": {
        "height": 0.8,
        "width": 0.8,
        "x": 0.1,
        "y": 0.1
       },
       "content": {
        "cell": "c94b6af8-e364-436a-9f77-4fb6e64c0768",
        "part": "source"
       },
       "id": "5fc18726-bf8b-4a40-ae6e-13fd8a8e4c11"
      }
     }
    },
    "78afd01c-e10a-42a3-880a-e01c6cb28ae9": {
     "id": "78afd01c-e10a-42a3-880a-e01c6cb28ae9",
     "prev": "5a7abd40-c337-4c1c-ae01-297256db3d2f",
     "regions": {
      "2312d77d-404a-4bd0-99ce-bac1461553e1": {
       "attrs": {
        "height": 0.8,
        "width": 0.21818181818181817,
        "x": 0.023636363636363636,
        "y": 0.06767676767676768
       },
       "content": {
        "cell": "29a6e1d0-57d0-4175-be36-e43e807e8f55",
        "part": "source"
       },
       "id": "2312d77d-404a-4bd0-99ce-bac1461553e1"
      },
      "c63f8406-4852-4cda-bbbf-6acb9e36a0c1": {
       "attrs": {
        "height": 0.8,
        "width": 0.6990909090909091,
        "x": 0.2636363636363636,
        "y": 0.07252525252525252
       },
       "content": {
        "cell": "5ce0ab43-914a-469c-8b9a-d77e452cfa1f",
        "part": "source"
       },
       "id": "c63f8406-4852-4cda-bbbf-6acb9e36a0c1"
      }
     }
    },
    "897df7b8-b7ac-4fc2-98ef-07efb9c361cf": {
     "id": "897df7b8-b7ac-4fc2-98ef-07efb9c361cf",
     "prev": "4b24fed8-5664-4d98-9713-1eabfd9fd3b7",
     "regions": {
      "678a33c9-e960-435a-a9c3-7abaa49bc595": {
       "attrs": {
        "height": 0.2327272727272728,
        "width": 0.6290909090909091,
        "x": 0.33181818181818173,
        "y": 0.3779797979797981
       },
       "content": {
        "cell": "c1c4426c-1d02-489d-be65-4634b979f63e",
        "part": "source"
       },
       "id": "678a33c9-e960-435a-a9c3-7abaa49bc595"
      },
      "8e9902f1-4e2b-452f-b249-db8865158372": {
       "attrs": {
        "height": 0.5381818181818182,
        "width": 0.2690909090909091,
        "x": 0.028181818181818183,
        "y": 0.3618181818181818
       },
       "content": {
        "cell": "153f698a-d187-4edc-b00f-554b3fb126c1",
        "part": "source"
       },
       "id": "8e9902f1-4e2b-452f-b249-db8865158372"
      },
      "ab1a4659-243b-4f4b-8433-72e7c7d622f0": {
       "attrs": {
        "height": 0.2585858585858586,
        "width": 0.27636363636363637,
        "x": 0.023636363636363636,
        "y": 0.06767676767676768
       },
       "content": {
        "cell": "61fd2d6d-86fb-4031-9435-c7968054e788",
        "part": "source"
       },
       "id": "ab1a4659-243b-4f4b-8433-72e7c7d622f0"
      },
      "d0b01341-a395-4834-b8d3-2bbc5a85ee18": {
       "attrs": {
        "height": 0.2505050505050505,
        "width": 0.6427272727272727,
        "x": 0.3245454545454545,
        "y": 0.06282828282828283
       },
       "content": {
        "cell": "0f53c74a-a642-47c6-b9a3-1294adade0b0",
        "part": "source"
       },
       "id": "d0b01341-a395-4834-b8d3-2bbc5a85ee18"
      },
      "e3ec7c63-0182-4a48-992e-08ed0d4448fd": {
       "attrs": {
        "height": 0.25535353535353533,
        "width": 0.6190909090909091,
        "x": 0.3372727272727273,
        "y": 0.6333333333333333
       },
       "content": {
        "cell": "c1c4426c-1d02-489d-be65-4634b979f63e",
        "part": "widgets"
       },
       "id": "e3ec7c63-0182-4a48-992e-08ed0d4448fd"
      }
     }
    },
    "a0fbe841-f113-4675-9b84-3045350ab784": {
     "id": "a0fbe841-f113-4675-9b84-3045350ab784",
     "prev": "37e9213d-dca8-4954-9475-9e65c89e8ebb",
     "regions": {
      "32c4d711-7a71-4340-a35e-93b4fc63bc27": {
       "attrs": {
        "height": 0.8,
        "width": 0.6990909090909091,
        "x": 0.2636363636363636,
        "y": 0.07252525252525252
       },
       "content": {
        "cell": "5bb144a1-9215-4781-a1cb-22c548fe3fb3",
        "part": "source"
       },
       "id": "32c4d711-7a71-4340-a35e-93b4fc63bc27"
      },
      "bb8efbde-60fd-4494-a76e-d7904d420195": {
       "attrs": {
        "height": 0.8,
        "width": 0.21818181818181817,
        "x": 0.023636363636363636,
        "y": 0.06767676767676768
       },
       "content": {
        "cell": "d9e423e3-0112-4718-b703-f6bb7e5b631f",
        "part": "source"
       },
       "id": "bb8efbde-60fd-4494-a76e-d7904d420195"
      }
     }
    },
    "b00e63d7-32af-4ff5-ba4e-298a920a5845": {
     "id": "b00e63d7-32af-4ff5-ba4e-298a920a5845",
     "prev": "a0fbe841-f113-4675-9b84-3045350ab784",
     "regions": {
      "47521d8a-c29c-41d0-86e7-0dd427db392d": {
       "attrs": {
        "height": 0.30545454545454553,
        "width": 0.6909090909090909,
        "x": 0.2681818181818182,
        "y": 0.5606060606060606
       },
       "content": {
        "cell": "6f825708-0a1d-4098-9ea9-750fa5e36fd1",
        "part": "widgets"
       },
       "id": "47521d8a-c29c-41d0-86e7-0dd427db392d"
      },
      "7c221561-9bc8-4022-ba8e-b20e38fdb80e": {
       "attrs": {
        "height": 0.4573737373737374,
        "width": 0.6990909090909091,
        "x": 0.2636363636363636,
        "y": 0.07252525252525252
       },
       "content": {
        "cell": "fc86e3f8-b0cb-494f-8d7c-3be7df1f9162",
        "part": "source"
       },
       "id": "7c221561-9bc8-4022-ba8e-b20e38fdb80e"
      },
      "e4bd3a49-4aec-4aba-9422-3442dd7c3011": {
       "attrs": {
        "height": 0.8,
        "width": 0.21818181818181817,
        "x": 0.023636363636363636,
        "y": 0.06767676767676768
       },
       "content": {
        "cell": "48c2280a-de2d-47ec-9bc4-325b1c6b44a3",
        "part": "source"
       },
       "id": "e4bd3a49-4aec-4aba-9422-3442dd7c3011"
      }
     }
    },
    "de21becd-24fb-4511-9e1c-b29cebf8eea8": {
     "id": "de21becd-24fb-4511-9e1c-b29cebf8eea8",
     "prev": "df69c01f-79b1-4a94-bf14-620705d5939e",
     "regions": {
      "4f94a04b-28ac-4715-93d1-520381cf9f9c": {
       "attrs": {
        "height": 0.3377777777777778,
        "width": 0.31272727272727274,
        "x": 0.04363636363636364,
        "y": 0.58
       },
       "content": {
        "cell": "ed47ce5c-29d2-4b4f-bd9c-51e612bc707a",
        "part": "source"
       },
       "id": "4f94a04b-28ac-4715-93d1-520381cf9f9c"
      },
      "6158420d-b475-418e-b47a-4ee3db5922c0": {
       "attrs": {
        "height": 0.3571717171717172,
        "width": 0.30727272727272725,
        "x": 0.04818181818181818,
        "y": 0.18242424242424238
       },
       "content": {
        "cell": "f071b747-d68a-4978-b7bb-c60f32e176a3",
        "part": "source"
       },
       "id": "6158420d-b475-418e-b47a-4ee3db5922c0"
      },
      "cdea4b98-4ac3-4029-b60f-195f71ef6487": {
       "attrs": {
        "height": 0.8824242424242424,
        "width": 0.5727272727272728,
        "x": 0.39,
        "y": 0.054747474747474746
       },
       "content": {
        "cell": "ed47ce5c-29d2-4b4f-bd9c-51e612bc707a",
        "part": "widgets"
       },
       "id": "cdea4b98-4ac3-4029-b60f-195f71ef6487"
      },
      "efb0ba45-9b23-42b1-be46-8cbdba6dff6b": {
       "attrs": {
        "height": 0.09535353535353536,
        "width": 0.32181818181818184,
        "x": 0.04727272727272727,
        "y": 0.05313131313131313
       },
       "content": {
        "cell": "689fac28-fdf4-47ee-be02-430ebd7361cf",
        "part": "source"
       },
       "id": "efb0ba45-9b23-42b1-be46-8cbdba6dff6b"
      }
     }
    },
    "df69c01f-79b1-4a94-bf14-620705d5939e": {
     "id": "df69c01f-79b1-4a94-bf14-620705d5939e",
     "prev": "897df7b8-b7ac-4fc2-98ef-07efb9c361cf",
     "regions": {
      "2b1ad133-ef11-45ab-b1c4-ccb3af4c15ce": {
       "attrs": {
        "height": 0.09535353535353536,
        "width": 0.32181818181818184,
        "x": 0.04727272727272727,
        "y": 0.05313131313131313
       },
       "content": {
        "cell": "8a5a5752-3ae7-4d49-8726-7ce61da9fbde",
        "part": "source"
       },
       "id": "2b1ad133-ef11-45ab-b1c4-ccb3af4c15ce"
      },
      "88df647a-d08a-4161-bc5c-7651b2ce21b2": {
       "attrs": {
        "height": 0.8824242424242424,
        "width": 0.5727272727272728,
        "x": 0.39,
        "y": 0.054747474747474746
       },
       "content": {
        "cell": "8d40fd4f-9ac6-4b4c-b442-4a5bac2a823b",
        "part": "widgets"
       },
       "id": "88df647a-d08a-4161-bc5c-7651b2ce21b2"
      },
      "a6ace5d4-e3d2-4014-acb2-77b60e82baf6": {
       "attrs": {
        "height": 0.7515151515151515,
        "width": 0.30727272727272725,
        "x": 0.057272727272727274,
        "y": 0.1905050505050505
       },
       "content": {
        "cell": "8d40fd4f-9ac6-4b4c-b442-4a5bac2a823b",
        "part": "source"
       },
       "id": "a6ace5d4-e3d2-4014-acb2-77b60e82baf6"
      }
     }
    }
   }
  }
 },
 "nbformat": 4,
 "nbformat_minor": 0
}
